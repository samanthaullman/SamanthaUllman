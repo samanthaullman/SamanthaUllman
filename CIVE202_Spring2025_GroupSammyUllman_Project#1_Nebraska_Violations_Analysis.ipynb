{
 "cells": [
  {
   "cell_type": "code",
   "execution_count": 3,
   "id": "e438d301-4986-406e-9967-ec96a235ca8e",
   "metadata": {},
   "outputs": [],
   "source": [
    "#importing pandas\n",
    "import pandas as pd"
   ]
  },
  {
   "cell_type": "code",
   "execution_count": 7,
   "id": "7a0ef9f9-44ec-4a73-8ea2-ce8915ca063a",
   "metadata": {},
   "outputs": [],
   "source": [
    "#reads the .csv files and assigns it \n",
    "#puts the data into a dataframe we can pull information from \n",
    "\n",
    "nebraska_data = pd.read_csv('Nebraska_Violations_Clean.csv')\n",
    "nebraska_data = pd.DataFrame(nebraska_data)"
   ]
  },
  {
   "cell_type": "code",
   "execution_count": 19,
   "id": "e6d7a706-f706-4f14-9462-63fc2fad6dad",
   "metadata": {},
   "outputs": [
    {
     "name": "stdout",
     "output_type": "stream",
     "text": [
      "                             max  min  mean  median\n",
      "contaminant                                        \n",
      "1,1,1-Trichloroethane         10   10  10.0    10.0\n",
      "1,1,2-Trichloroethane          4    4   4.0     4.0\n",
      "1,1-Dichloroethylene          10   10  10.0    10.0\n",
      "1,2,4-Trichlorobenzene        10   10  10.0    10.0\n",
      "1,2-DIBROMO-3-CHLOROPROPANE    2    2   2.0     2.0\n",
      "...                          ...  ...   ...     ...\n",
      "Xylenes, Total                 8    8   8.0     8.0\n",
      "cis-1,2-Dichloroethylene       4    4   4.0     4.0\n",
      "o-Dichlorobenzene             10   10  10.0    10.0\n",
      "p-Dichlorobenzene             10   10  10.0    10.0\n",
      "trans-1,2-Dichloroethylene    10   10  10.0    10.0\n",
      "\n",
      "[85 rows x 4 columns]\n"
     ]
    }
   ],
   "source": [
    "#task 1 \n",
    "\n",
    "\n",
    "ne_data_grouped = nebraska_data.groupby(['pws_type','contaminant']).size()\n",
    "summary = ne_data_grouped.reset_index(name = '')\n",
    "stat_summary = summary.groupby('contaminant').agg(max=('','max'),\n",
    "                                              min=('','min'),\n",
    "                                              mean=('','mean'),\n",
    "                                              median=('','median'))\n",
    "print(stat_summary)\n"
   ]
  },
  {
   "cell_type": "code",
   "execution_count": 11,
   "id": "5d48b613-6214-433e-a8cc-b8050fd41cf2",
   "metadata": {},
   "outputs": [
    {
     "name": "stdout",
     "output_type": "stream",
     "text": [
      "    pws_type                                        contaminant pop_category  \\\n",
      "0        CWS                              1,1,1-Trichloroethane        small   \n",
      "1        CWS                              1,1,1-Trichloroethane   very small   \n",
      "2        CWS                              1,1,2-Trichloroethane        small   \n",
      "3        CWS                              1,1,2-Trichloroethane   very small   \n",
      "4        CWS                               1,1-Dichloroethylene        small   \n",
      "..       ...                                                ...          ...   \n",
      "176    TNCWS                                      Public Notice        small   \n",
      "177    TNCWS                                      Public Notice   very small   \n",
      "178    TNCWS                        Revised Total Coliform Rule        small   \n",
      "179    TNCWS                        Revised Total Coliform Rule   very small   \n",
      "180    TNCWS  Stage 1 Disinfectants and Disinfection Byprodu...   very small   \n",
      "\n",
      "     quantity  \n",
      "0           8  \n",
      "1           2  \n",
      "2           2  \n",
      "3           2  \n",
      "4           8  \n",
      "..        ...  \n",
      "176         2  \n",
      "177       211  \n",
      "178         3  \n",
      "179       373  \n",
      "180         6  \n",
      "\n",
      "[181 rows x 4 columns]\n"
     ]
    }
   ],
   "source": [
    "#task 2 \n",
    "#grouped the data according to the specified categories\n",
    "#created a new summary set \n",
    "#grouped the new summary set and took the max, min, mean, and median of the contaminants \n",
    "\n",
    "def assign_category(x):\n",
    "    if x <= 500:\n",
    "        return \"very small\"\n",
    "    elif x >=501 & x <= 3300:\n",
    "        return \"small\"\n",
    "    elif x >= 3301 & x <= 10000:\n",
    "        return \"medium\"\n",
    "    elif x >= 10001 & x <= 100000:\n",
    "        return \"large\"\n",
    "    else:\n",
    "        return \"very large\"\n",
    "nebraska_data['pop_category'] = nebraska_data['population'].apply(assign_category)\n",
    "subset1 = nebraska_data[(nebraska_data['activity_status'] == \"Active\")]\n",
    "summary1 = nebraska_data.groupby(['pws_type', 'contaminant', 'pop_category']).size().reset_index(name='quantity')\n",
    "summary1.to_csv(\"task2_summary_1.csv\")\n",
    "print(summary1)\n"
   ]
  },
  {
   "cell_type": "code",
   "execution_count": 13,
   "id": "0152988b-89a1-4e3a-a93f-a61f95bd73a0",
   "metadata": {},
   "outputs": [
    {
     "name": "stdout",
     "output_type": "stream",
     "text": [
      "    pws_type                                        contaminant pop_category  \\\n",
      "0        CWS                              1,1,1-Trichloroethane        small   \n",
      "1        CWS                              1,1,1-Trichloroethane   very small   \n",
      "2        CWS                              1,1,2-Trichloroethane        small   \n",
      "3        CWS                              1,1,2-Trichloroethane   very small   \n",
      "4        CWS                               1,1-Dichloroethylene        small   \n",
      "..       ...                                                ...          ...   \n",
      "316    TNCWS                        Revised Total Coliform Rule   very small   \n",
      "317    TNCWS                        Revised Total Coliform Rule   very small   \n",
      "318    TNCWS                        Revised Total Coliform Rule   very small   \n",
      "319    TNCWS                        Revised Total Coliform Rule   very small   \n",
      "320    TNCWS  Stage 1 Disinfectants and Disinfection Byprodu...   very small   \n",
      "\n",
      "                                        violation_type  quantity  \n",
      "0                                  Monitoring, Regular         8  \n",
      "1                                  Monitoring, Regular         2  \n",
      "2                                  Monitoring, Regular         2  \n",
      "3                                  Monitoring, Regular         2  \n",
      "4         Maximum Contaminant Level Violation, Average         1  \n",
      "..                                                 ...       ...  \n",
      "316      Treatment Technique Startup Procedures (RTCR)        16  \n",
      "317  Treatment Technique, Corrective/Expedited Acti...         6  \n",
      "318     Treatment Technique, Level 1 Assessment (RTCR)         2  \n",
      "319     Treatment Technique, Level 2 Assessment (RTCR)         1  \n",
      "320            Treatment Technique No Certif. Operator         6  \n",
      "\n",
      "[321 rows x 5 columns]\n"
     ]
    }
   ],
   "source": [
    "#task 3\n",
    "#filtered data according to activity status and MCL violations \n",
    "#grouped by the necessary categories\n",
    "#exported new summary into a .csv for client\n",
    "\n",
    "subset2 = nebraska_data[(nebraska_data['activity_status'] == \"Active\") &\n",
    "(nebraska_data['violation_type']==\"Maximum Contaminant Level Violation, Average\") |\n",
    "(nebraska_data['violation_type']==\"Maximum Contaminant Level Violation, Single Sample\")]\n",
    "summary2 = nebraska_data.groupby(['pws_type', 'contaminant', 'pop_category','violation_type']).size().reset_index(name='quantity')\n",
    "summary2.to_csv(\"task3_summary2.csv\")\n",
    "print(summary2)"
   ]
  },
  {
   "cell_type": "code",
   "execution_count": null,
   "id": "6bb5f816-0606-4cc7-b5af-38b125be3d96",
   "metadata": {},
   "outputs": [],
   "source": []
  }
 ],
 "metadata": {
  "kernelspec": {
   "display_name": "anaconda-2024.02-py310",
   "language": "python",
   "name": "conda-env-anaconda-2024.02-py310-py"
  },
  "language_info": {
   "codemirror_mode": {
    "name": "ipython",
    "version": 3
   },
   "file_extension": ".py",
   "mimetype": "text/x-python",
   "name": "python",
   "nbconvert_exporter": "python",
   "pygments_lexer": "ipython3",
   "version": "3.10.14"
  }
 },
 "nbformat": 4,
 "nbformat_minor": 5
}
